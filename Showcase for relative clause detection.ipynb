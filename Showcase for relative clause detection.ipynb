{
 "cells": [
  {
   "cell_type": "markdown",
   "metadata": {},
   "source": [
    "# Relative Clause Extraction \n",
    "\n",
    "This is a sophisticated tool designed for the automatic detection and extraction of relative clauses in English text. \n",
    "\n",
    "## Detailed Description\n",
    "\n",
    "For a comprehensive understanding of the tool's functionality and its underlying mechanisms, please refer to the article listed below.\n",
    "\n",
    "\n",
    "### Environment\n",
    "python: >= 3.9\n",
    "pytorch: >= 1.7\n",
    "transformers: >= 4.0\n",
    "\n",
    "pip install supar nltk pandas\n",
    "\n",
    "\n",
    "\n",
    "---\n",
    "\n",
    "### Article Reference\n",
    "\n",
    "We kindly ask that you cite the following article in any academic or research work where this tool is utilized.\n",
    "\n",
    "Zhang, T., Li, J., & Lei, L. (accepted). *The Diachronic Change of English Relativizers: A Case Study in the State of the Union Addresses Across Two Centuries*. _Corpus Linguistics and Linguistic Theory_.\n",
    "\n",
    "---\n",
    "\n",
    "Thank you very much again!\n",
    "\n",
    "---"
   ]
  },
  {
   "cell_type": "code",
   "execution_count": 1,
   "metadata": {},
   "outputs": [
    {
     "name": "stderr",
     "output_type": "stream",
     "text": [
      "c:\\Users\\starlight\\.conda\\envs\\aes\\lib\\site-packages\\torch\\nn\\modules\\rnn.py:28: UserWarning: apply_permutation is deprecated, please use tensor.index_select(dim, permutation) instead\n",
      "  warnings.warn(\"apply_permutation is deprecated, please use tensor.index_select(dim, permutation) instead\")\n"
     ]
    }
   ],
   "source": [
    "from relative_clause_detection import RelativeClause\n",
    "\n",
    "# input files directory\n",
    "input_text_dir = \"input_texts/\"  # replace with your own input directory\n",
    "\n",
    "# output text directory\n",
    "# The extracted relative clauses are saved in a csv file {self.output_folder}result.csv\n",
    "file_out_dir = \"result/\"  # replace with your own output directory\n",
    "\n",
    "# create an instance of the RelativeClause class\n",
    "RelativeClause = RelativeClause(input_text_dir, file_out_dir)\n",
    "\n",
    "# extract all relative clauses\n",
    "# relative_clauses = RelativeClause.extract_relative_clauses()\n",
    "\n",
    "# # You can also extract specific relative clauses\n",
    "specific_relative_clauses = RelativeClause.extract_relative_clauses(relativizer_list=[\"which\", \"that\", \"zero\"],\n",
    "                                                                    role_of_relativizer=[\"nsubj\", \"nsubjpass\",  \"dobj\"],\n",
    "                                                                    animacy_of_relativizer=[\"inanimate\"],\n",
    "                                                                    restrictiveness=[\"restrictive\"]) \n",
    "\n"
   ]
  }
 ],
 "metadata": {
  "kernelspec": {
   "display_name": "rc",
   "language": "python",
   "name": "python3"
  },
  "language_info": {
   "codemirror_mode": {
    "name": "ipython",
    "version": 3
   },
   "file_extension": ".py",
   "mimetype": "text/x-python",
   "name": "python",
   "nbconvert_exporter": "python",
   "pygments_lexer": "ipython3",
   "version": "3.9.13"
  }
 },
 "nbformat": 4,
 "nbformat_minor": 2
}
